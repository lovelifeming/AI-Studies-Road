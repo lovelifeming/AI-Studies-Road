{
 "cells": [
  {
   "cell_type": "code",
   "execution_count": 16,
   "metadata": {},
   "outputs": [],
   "source": [
    "import numpy as np\n",
    "import matplotlib.pyplot as plt\n",
    "\n",
    "# 线性神经网络 异或问题 示例\n",
    "# python 3.7"
   ]
  },
  {
   "cell_type": "code",
   "execution_count": 23,
   "metadata": {},
   "outputs": [
    {
     "name": "stdout",
     "output_type": "stream",
     "text": [
      "[-0.20740667  0.93492584 -0.5538534  -0.7621244   0.76647065  0.43482285]\n"
     ]
    }
   ],
   "source": [
    "# 输入数据\n",
    "X= np.array([[1,0,0,0,0,0],[1,0,1,0,0,1],[1,1,0,1,0,0],[1,1,1,1,1,1]])\n",
    "Y=np.array([-1,1,1,-1])\n",
    "# 权值初始化，1行6列，取值范围 -1到1\n",
    "W=(np.random.random(6)-0.5)*2\n",
    "print(W)\n",
    "# 学习率设置\n",
    "lr=0.11\n",
    "# 计算迭代次数\n",
    "N=0\n",
    "# 神经网络输出\n",
    "O=0\n",
    "def update():\n",
    "    global X,Y,W,lr,N\n",
    "    N+=1\n",
    "    o=np.dot(X,W.T)\n",
    "    wc=lr*(Y-o.T).dot(X)/X.shape[0]\n",
    "    W=W+wc"
   ]
  },
  {
   "cell_type": "code",
   "execution_count": 36,
   "metadata": {},
   "outputs": [
    {
     "name": "stderr",
     "output_type": "stream",
     "text": [
      "D:\\Program Files\\Develop\\Python\\Anaconda3\\lib\\site-packages\\ipykernel_launcher.py:13: RuntimeWarning: invalid value encountered in power\n",
      "  del sys.path[0]\n",
      "D:\\Program Files\\Develop\\Python\\Anaconda3\\lib\\site-packages\\ipykernel_launcher.py:15: RuntimeWarning: invalid value encountered in sqrt\n",
      "  from ipykernel import kernelapp as app\n",
      "D:\\Program Files\\Develop\\Python\\Anaconda3\\lib\\site-packages\\ipykernel_launcher.py:17: RuntimeWarning: invalid value encountered in sqrt\n"
     ]
    },
    {
     "data": {
      "image/png": "[encoded data removed]",
      "text/plain": [
       "<Figure size 432x288 with 1 Axes>"
      ]
     },
     "metadata": {
      "needs_background": "light"
     },
     "output_type": "display_data"
    }
   ],
   "source": [
    "for _ in range(100000):\n",
    "    update() # 更新权值\n",
    "    \n",
    "# 正样本\n",
    "x1=[0,1]\n",
    "y1=[1,0]\n",
    "# 负样本\n",
    "x2=[0,1]\n",
    "y2=[0,1]\n",
    "def calculate(x,root):\n",
    "    a=W[5]\n",
    "    b=W[2]+x*W[4]\n",
    "    c=W[0]+x*W[1]+x*x**W[3]\n",
    "    if root==1:\n",
    "        return (-b+np.sqrt(b*b-4*a*c))/(2*a)   # 一元二次方程求解   ax*x+bx+c=0\n",
    "    if root==2:                                # x=(-b+sqrt(b*b-4*a*c))/(2*a)\n",
    "        return (-b-np.sqrt(b*b-4*a*c))/(2*a)   # x=(-b-sqrt(b*b-4*a*c))/(2*a)\n",
    "\n",
    "xdata=np.linspace(-1,2)\n",
    "plt.figure()\n",
    "plt.plot(xdata,calculate(xdata,1),'r')\n",
    "plt.plot(xdata,calculate(xdata,2),'r')\n",
    "\n",
    "plt.plot(x1,y1,'bo')   #打印正样本\n",
    "plt.plot(x2,y2,'yo')   #打印负样本\n",
    "plt.show()    "
   ]
  },
  {
   "cell_type": "code",
   "execution_count": 33,
   "metadata": {},
   "outputs": [
    {
     "name": "stdout",
     "output_type": "stream",
     "text": [
      "[-0.99917246  0.99944739  0.99944739 -0.9995724 ]\n"
     ]
    }
   ],
   "source": [
    "O=np.dot(X,W.T)\n",
    "print(O)"
   ]
  },
  {
   "cell_type": "code",
   "execution_count": null,
   "metadata": {},
   "outputs": [],
   "source": []
  },
  {
   "cell_type": "code",
   "execution_count": null,
   "metadata": {},
   "outputs": [],
   "source": []
  }
 ],
 "metadata": {
  "kernelspec": {
   "display_name": "Python 3",
   "language": "python",
   "name": "python3"
  },
  "language_info": {
   "codemirror_mode": {
    "name": "ipython",
    "version": 3
   },
   "file_extension": ".py",
   "mimetype": "text/x-python",
   "name": "python",
   "nbconvert_exporter": "python",
   "pygments_lexer": "ipython3",
   "version": "3.6.10"
  }
 },
 "nbformat": 4,
 "nbformat_minor": 4
}
