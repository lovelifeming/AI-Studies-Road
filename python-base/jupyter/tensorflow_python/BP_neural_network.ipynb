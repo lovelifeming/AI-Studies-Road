{
 "cells": [
  {
   "cell_type": "code",
   "execution_count": 15,
   "metadata": {},
   "outputs": [],
   "source": [
    "import numpy as np\n",
    "\n",
    "# BP 神经网络\n",
    "# python 3.7"
   ]
  },
  {
   "cell_type": "code",
   "execution_count": 19,
   "metadata": {},
   "outputs": [
    {
     "name": "stdout",
     "output_type": "stream",
     "text": [
      "[[1 0 0]\n",
      " [1 0 1]\n",
      " [1 1 0]\n",
      " [1 1 1]]\n",
      "[[0 1 1 0]]\n",
      "[[ 0.6293333   0.86936642 -0.03467937  0.92710823]\n",
      " [-0.37902046 -0.18830448 -0.68106243  0.28558169]\n",
      " [-0.46358425 -0.62022989 -0.85098258 -0.2992744 ]]\n",
      "[[0.58570645]\n",
      " [0.60455402]\n",
      " [0.63325711]\n",
      " [0.09203143]]\n"
     ]
    }
   ],
   "source": [
    "# 输入数据\n",
    "X= np.array([[1,0,0],[1,0,1],[1,1,0],[1,1,1]])\n",
    "# 标签\n",
    "Y=np.array([[0,1,1,0]])\n",
    "# 权值初始化，1行3列，取值范围 -1到1\n",
    "V=np.random.random((3,4))*2-1\n",
    "W=np.random.random((4,1))*2-1\n",
    "print(X)\n",
    "print(Y)\n",
    "print(V)\n",
    "print(W)\n",
    "# 学习率设置\n",
    "lr=0.11\n",
    "\n",
    "def sigmoid(x):\n",
    "    return 1/(1+np.exp(-x))  # sigmoid 函数取值 0~1之间\n",
    "def dsigmoid(x):\n",
    "    return x*(1-x)\n",
    "def update():\n",
    "    global X,Y,W,V,lr\n",
    "    l1=sigmoid(np.dot(X,V)) # 隐藏层输出(4,4)\n",
    "    l2=sigmoid(np.dot(l1,W)) #输出层输出(4,1)\n",
    "    \n",
    "    l2_delta=(Y.T-l2)*dsigmoid(l2)\n",
    "    l1_delta=l2_delta.dot(W.T)*dsigmoid(l1)\n",
    "    \n",
    "    wc=lr*l1.T.dot(l2_delta)\n",
    "    vc=lr*X.T.dot(l1_delta)\n",
    "    W=W+wc\n",
    "    V=V+vc\n",
    "    "
   ]
  },
  {
   "cell_type": "code",
   "execution_count": 28,
   "metadata": {},
   "outputs": [
    {
     "name": "stdout",
     "output_type": "stream",
     "text": [
      "loss: 0.010617487426624671\n",
      "loss: 0.0105836420941354\n",
      "loss: 0.010550107978642293\n",
      "loss: 0.01051688039088508\n",
      "[[0.010614  ]\n",
      " [0.99311911]\n",
      " [0.98698519]\n",
      " [0.01142638]]\n",
      "0\n",
      "1\n",
      "1\n",
      "0\n"
     ]
    }
   ],
   "source": [
    "for i in range(2000):\n",
    "    update()  # 更新权值\n",
    "    if(i%500)==0:\n",
    "        l1=sigmoid(np.dot(X,V)) # 隐藏层输出 (4,4)\n",
    "        l2=sigmoid(np.dot(l1,W)) # 输出层输出 (4,1)\n",
    "        print('loss:',np.mean(np.abs(Y.T-l2)))\n",
    "l1=sigmoid(np.dot(X,V)) # 隐藏层输出 (4,4)\n",
    "l2=sigmoid(np.dot(l1,W)) # 输出层输出 (4,1)\n",
    "print(l2)\n",
    "def judge(x):\n",
    "    if x>=0.05:\n",
    "        return 1\n",
    "    else:\n",
    "        return 0;\n",
    "for i in map(judge,l2):\n",
    "    print(i)"
   ]
  },
  {
   "cell_type": "code",
   "execution_count": null,
   "metadata": {},
   "outputs": [],
   "source": []
  }
 ],
 "metadata": {
  "kernelspec": {
   "display_name": "Python 3",
   "language": "python",
   "name": "python3"
  },
  "language_info": {
   "codemirror_mode": {
    "name": "ipython",
    "version": 3
   },
   "file_extension": ".py",
   "mimetype": "text/x-python",
   "name": "python",
   "nbconvert_exporter": "python",
   "pygments_lexer": "ipython3",
   "version": "3.6.10"
  }
 },
 "nbformat": 4,
 "nbformat_minor": 4
}
