{
 "cells": [
  {
   "cell_type": "code",
   "execution_count": 1,
   "metadata": {
    "collapsed": true,
    "jupyter": {
     "outputs_hidden": true
    }
   },
   "outputs": [],
   "source": [
    "import tensorflow as tf\n",
    "import numpy as np\n",
    "import matplotlib.pyplot as plt\n",
    "# python3.5 environment "
   ]
  },
  {
   "cell_type": "code",
   "execution_count": 2,
   "metadata": {},
   "outputs": [
    {
     "name": "stdout",
     "output_type": "stream",
     "text": [
      "<bound method Tensor.eval of <tf.Tensor 'MatMul:0' shape=(1, 1) dtype=float32>>\n",
      "<tf.Variable 'Variable_1:0' shape=(2, 1) dtype=float32_ref>\n",
      "Tensor(\"MatMul:0\", shape=(1, 1), dtype=float32)\n"
     ]
    }
   ],
   "source": [
    "# tensorflow 初始化环境变量\n",
    "w=tf.Variable([[0.5,1.0]])\n",
    "x=tf.Variable([[2.0],[3.0]])\n",
    "y=tf.matmul(w,x)\n",
    "\n",
    "init_op=tf.global_variables_initializer()\n",
    "with tf.Session() as sess:\n",
    "    sess.run(init_op)\n",
    "    print(y.eval)\n",
    "print(x)\n",
    "print(y)"
   ]
  },
  {
   "cell_type": "code",
   "execution_count": 3,
   "metadata": {},
   "outputs": [
    {
     "data": {
      "text/plain": [
       "<tf.Tensor 'range:0' shape=(5,) dtype=int32>"
      ]
     },
     "execution_count": 3,
     "metadata": {},
     "output_type": "execute_result"
    }
   ],
   "source": [
    "# 构建数字对象\n",
    "\n",
    "tensor=tf.constant([1,2,3,4,5,6,7,]) # [1,2,3,4,5,6,7]\n",
    "tensor=tf.constant(-1.0,shape=[2,3]) # [[-1.,-1.,-1.],[-1.,-1.,-1.]]\n",
    "tf.linspace(10.0,12.0,3,name=\"linspace\") # [ 10.0 11.0 12.0]\n",
    "start=3\n",
    "limit=18\n",
    "delta=3\n",
    "tf.range(start,limit,delta)\n"
   ]
  },
  {
   "cell_type": "code",
   "execution_count": 4,
   "metadata": {},
   "outputs": [
    {
     "name": "stdout",
     "output_type": "stream",
     "text": [
      "[[ 2.92884898  0.72279453 -0.84405452]\n",
      " [-3.22858214  2.7976141   2.51509047]]\n",
      "[[1 2]\n",
      " [5 6]\n",
      " [3 4]]\n"
     ]
    }
   ],
   "source": [
    "# 随机数\n",
    "nrm=tf.random_normal([2,3],mean=-1,stddev=4)\n",
    "\n",
    "c=tf.constant([[1,2],[3,4],[5,6]])\n",
    "shuff=tf.random_shuffle(c)\n",
    "sess=tf.Session()\n",
    "print(sess.run(nrm))\n",
    "print(sess.run(shuff))\n"
   ]
  },
  {
   "cell_type": "code",
   "execution_count": 5,
   "metadata": {},
   "outputs": [
    {
     "name": "stdout",
     "output_type": "stream",
     "text": [
      "[[ 0.  0.  0.]\n",
      " [ 0.  0.  0.]\n",
      " [ 0.  0.  0.]]\n"
     ]
    }
   ],
   "source": [
    "arr=np.zeros((3,3))\n",
    "tarr=tf.convert_to_tensor(arr)\n",
    "with tf.Session() as sess:\n",
    "    print(sess.run(tarr))\n"
   ]
  },
  {
   "cell_type": "code",
   "execution_count": 6,
   "metadata": {},
   "outputs": [
    {
     "data": {
      "image/png": "[encoded data removed]",
      "text/plain": [
       "<matplotlib.figure.Figure at 0x17bdd9f6048>"
      ]
     },
     "metadata": {},
     "output_type": "display_data"
    }
   ],
   "source": [
    "# 随机生成1000 个点，围绕在 y=0.1x+0.3的直线周围，生成样本数据\n",
    "num_points=1000\n",
    "vectors_set=[]\n",
    "for i in range(num_points):\n",
    "    x=np.random.normal(0.0,0.55)\n",
    "    y=x*0.1+0.3+np.random.normal(0.0,0.03)\n",
    "    vectors_set.append([x,y])\n",
    "# 生成一些样本\n",
    "x_data=[v[0] for v in vectors_set]\n",
    "y_data=[v[1] for v in vectors_set]\n",
    "plt.scatter(x_data,y_data,c='r')\n",
    "plt.show()\n"
   ]
  },
  {
   "cell_type": "code",
   "execution_count": 7,
   "metadata": {},
   "outputs": [
    {
     "name": "stdout",
     "output_type": "stream",
     "text": [
      "w= [-0.31118155] b= [ 0.] loss= 0.132966\n",
      "w= [-0.19932316] b= [ 0.2873455] loss= 0.0270585\n",
      "w= [-0.11157345] b= [ 0.29086849] loss= 0.0139092\n",
      "w= [-0.04972485] b= [ 0.29363221] loss= 0.00737422\n",
      "w= [-0.0061233] b= [ 0.29558018] loss= 0.00412644\n",
      "w= [ 0.02461459] b= [ 0.29695341] loss= 0.00251234\n",
      "w= [ 0.04628393] b= [ 0.29792151] loss= 0.00171015\n",
      "w= [ 0.06156022] b= [ 0.29860401] loss= 0.00131148\n",
      "w= [ 0.07232958] b= [ 0.29908514] loss= 0.00111334\n",
      "w= [ 0.07992168] b= [ 0.29942432] loss= 0.00101487\n",
      "w= [ 0.08527389] b= [ 0.29966345] loss= 0.000965933\n",
      "w= [ 0.08904706] b= [ 0.29983202] loss= 0.000941611\n",
      "w= [ 0.09170704] b= [ 0.29995084] loss= 0.000929524\n",
      "w= [ 0.09358224] b= [ 0.30003461] loss= 0.000923516\n",
      "w= [ 0.09490421] b= [ 0.30009368] loss= 0.000920531\n",
      "w= [ 0.09583616] b= [ 0.30013531] loss= 0.000919047\n",
      "w= [ 0.09649316] b= [ 0.30016467] loss= 0.00091831\n",
      "w= [ 0.09695633] b= [ 0.30018535] loss= 0.000917943\n",
      "w= [ 0.09728285] b= [ 0.30019996] loss= 0.000917761\n",
      "w= [ 0.09751303] b= [ 0.30021024] loss= 0.00091767\n",
      "w= [ 0.09767531] b= [ 0.30021748] loss= 0.000917625\n",
      "w= [ 0.09778971] b= [ 0.30022261] loss= 0.000917603\n",
      "w= [ 0.09787036] b= [ 0.30022621] loss= 0.000917592\n",
      "w= [ 0.09792722] b= [ 0.30022874] loss= 0.000917586\n",
      "w= [ 0.0979673] b= [ 0.30023053] loss= 0.000917584\n",
      "w= [ 0.09799556] b= [ 0.30023178] loss= 0.000917582\n",
      "w= [ 0.09801547] b= [ 0.30023268] loss= 0.000917582\n",
      "w= [ 0.09802952] b= [ 0.3002333] loss= 0.000917581\n",
      "w= [ 0.09803942] b= [ 0.30023375] loss= 0.000917581\n",
      "w= [ 0.0980464] b= [ 0.30023408] loss= 0.000917581\n",
      "w= [ 0.09805132] b= [ 0.30023429] loss= 0.000917581\n",
      "w= [ 0.09805479] b= [ 0.30023444] loss= 0.000917581\n",
      "w= [ 0.09805723] b= [ 0.30023456] loss= 0.000917581\n",
      "w= [ 0.09805895] b= [ 0.30023462] loss= 0.000917581\n",
      "w= [ 0.09806017] b= [ 0.30023468] loss= 0.000917581\n",
      "w= [ 0.09806103] b= [ 0.30023471] loss= 0.000917581\n",
      "w= [ 0.09806163] b= [ 0.30023474] loss= 0.000917581\n",
      "w= [ 0.09806205] b= [ 0.30023476] loss= 0.000917581\n",
      "w= [ 0.09806235] b= [ 0.30023476] loss= 0.000917581\n",
      "w= [ 0.09806257] b= [ 0.30023479] loss= 0.000917581\n",
      "w= [ 0.09806272] b= [ 0.30023479] loss= 0.000917581\n",
      "w= [ 0.09806282] b= [ 0.30023479] loss= 0.000917581\n",
      "w= [ 0.0980629] b= [ 0.30023479] loss= 0.000917581\n",
      "w= [ 0.09806295] b= [ 0.30023479] loss= 0.000917581\n",
      "w= [ 0.09806298] b= [ 0.30023479] loss= 0.000917581\n",
      "w= [ 0.09806301] b= [ 0.30023479] loss= 0.000917581\n",
      "w= [ 0.09806303] b= [ 0.30023479] loss= 0.000917581\n",
      "w= [ 0.09806304] b= [ 0.30023482] loss= 0.000917581\n",
      "w= [ 0.09806305] b= [ 0.30023482] loss= 0.000917581\n",
      "w= [ 0.09806306] b= [ 0.30023482] loss= 0.000917581\n",
      "w= [ 0.09806307] b= [ 0.30023482] loss= 0.000917581\n",
      "w= [ 0.09806307] b= [ 0.30023482] loss= 0.000917581\n",
      "w= [ 0.09806307] b= [ 0.30023482] loss= 0.000917581\n",
      "w= [ 0.09806307] b= [ 0.30023482] loss= 0.000917581\n",
      "w= [ 0.09806307] b= [ 0.30023482] loss= 0.000917581\n",
      "w= [ 0.09806307] b= [ 0.30023482] loss= 0.000917581\n",
      "w= [ 0.09806307] b= [ 0.30023482] loss= 0.000917581\n",
      "w= [ 0.09806307] b= [ 0.30023482] loss= 0.000917581\n",
      "w= [ 0.09806307] b= [ 0.30023482] loss= 0.000917581\n",
      "w= [ 0.09806307] b= [ 0.30023482] loss= 0.000917581\n",
      "w= [ 0.09806307] b= [ 0.30023482] loss= 0.000917581\n",
      "w= [ 0.09806307] b= [ 0.30023482] loss= 0.000917581\n",
      "w= [ 0.09806307] b= [ 0.30023482] loss= 0.000917581\n",
      "w= [ 0.09806307] b= [ 0.30023482] loss= 0.000917581\n",
      "w= [ 0.09806307] b= [ 0.30023482] loss= 0.000917581\n",
      "w= [ 0.09806307] b= [ 0.30023482] loss= 0.000917581\n",
      "w= [ 0.09806307] b= [ 0.30023482] loss= 0.000917581\n",
      "w= [ 0.09806307] b= [ 0.30023482] loss= 0.000917581\n",
      "w= [ 0.09806307] b= [ 0.30023482] loss= 0.000917581\n",
      "w= [ 0.09806307] b= [ 0.30023482] loss= 0.000917581\n",
      "w= [ 0.09806307] b= [ 0.30023482] loss= 0.000917581\n",
      "w= [ 0.09806307] b= [ 0.30023482] loss= 0.000917581\n",
      "w= [ 0.09806307] b= [ 0.30023482] loss= 0.000917581\n",
      "w= [ 0.09806307] b= [ 0.30023482] loss= 0.000917581\n",
      "w= [ 0.09806307] b= [ 0.30023482] loss= 0.000917581\n",
      "w= [ 0.09806307] b= [ 0.30023482] loss= 0.000917581\n",
      "w= [ 0.09806307] b= [ 0.30023482] loss= 0.000917581\n",
      "w= [ 0.09806307] b= [ 0.30023482] loss= 0.000917581\n",
      "w= [ 0.09806307] b= [ 0.30023482] loss= 0.000917581\n",
      "w= [ 0.09806307] b= [ 0.30023482] loss= 0.000917581\n",
      "w= [ 0.09806307] b= [ 0.30023482] loss= 0.000917581\n",
      "w= [ 0.09806307] b= [ 0.30023482] loss= 0.000917581\n",
      "w= [ 0.09806307] b= [ 0.30023482] loss= 0.000917581\n",
      "w= [ 0.09806307] b= [ 0.30023482] loss= 0.000917581\n",
      "w= [ 0.09806307] b= [ 0.30023482] loss= 0.000917581\n",
      "w= [ 0.09806307] b= [ 0.30023482] loss= 0.000917581\n",
      "w= [ 0.09806307] b= [ 0.30023482] loss= 0.000917581\n",
      "w= [ 0.09806307] b= [ 0.30023482] loss= 0.000917581\n",
      "w= [ 0.09806307] b= [ 0.30023482] loss= 0.000917581\n",
      "w= [ 0.09806307] b= [ 0.30023482] loss= 0.000917581\n",
      "w= [ 0.09806307] b= [ 0.30023482] loss= 0.000917581\n",
      "w= [ 0.09806307] b= [ 0.30023482] loss= 0.000917581\n",
      "w= [ 0.09806307] b= [ 0.30023482] loss= 0.000917581\n",
      "w= [ 0.09806307] b= [ 0.30023482] loss= 0.000917581\n",
      "w= [ 0.09806307] b= [ 0.30023482] loss= 0.000917581\n",
      "w= [ 0.09806307] b= [ 0.30023482] loss= 0.000917581\n",
      "w= [ 0.09806307] b= [ 0.30023482] loss= 0.000917581\n",
      "w= [ 0.09806307] b= [ 0.30023482] loss= 0.000917581\n",
      "w= [ 0.09806307] b= [ 0.30023482] loss= 0.000917581\n",
      "w= [ 0.09806307] b= [ 0.30023482] loss= 0.000917581\n",
      "w= [ 0.09806307] b= [ 0.30023482] loss= 0.000917581\n",
      "w= [ 0.09806307] b= [ 0.30023482] loss= 0.000917581\n",
      "w= [ 0.09806307] b= [ 0.30023482] loss= 0.000917581\n",
      "w= [ 0.09806307] b= [ 0.30023482] loss= 0.000917581\n",
      "w= [ 0.09806307] b= [ 0.30023482] loss= 0.000917581\n",
      "w= [ 0.09806307] b= [ 0.30023482] loss= 0.000917581\n",
      "w= [ 0.09806307] b= [ 0.30023482] loss= 0.000917581\n",
      "w= [ 0.09806307] b= [ 0.30023482] loss= 0.000917581\n",
      "w= [ 0.09806307] b= [ 0.30023482] loss= 0.000917581\n",
      "w= [ 0.09806307] b= [ 0.30023482] loss= 0.000917581\n",
      "w= [ 0.09806307] b= [ 0.30023482] loss= 0.000917581\n",
      "w= [ 0.09806307] b= [ 0.30023482] loss= 0.000917581\n",
      "w= [ 0.09806307] b= [ 0.30023482] loss= 0.000917581\n",
      "w= [ 0.09806307] b= [ 0.30023482] loss= 0.000917581\n",
      "w= [ 0.09806307] b= [ 0.30023482] loss= 0.000917581\n",
      "w= [ 0.09806307] b= [ 0.30023482] loss= 0.000917581\n",
      "w= [ 0.09806307] b= [ 0.30023482] loss= 0.000917581\n",
      "w= [ 0.09806307] b= [ 0.30023482] loss= 0.000917581\n",
      "w= [ 0.09806307] b= [ 0.30023482] loss= 0.000917581\n",
      "w= [ 0.09806307] b= [ 0.30023482] loss= 0.000917581\n",
      "w= [ 0.09806307] b= [ 0.30023482] loss= 0.000917581\n",
      "w= [ 0.09806307] b= [ 0.30023482] loss= 0.000917581\n",
      "w= [ 0.09806307] b= [ 0.30023482] loss= 0.000917581\n",
      "w= [ 0.09806307] b= [ 0.30023482] loss= 0.000917581\n",
      "w= [ 0.09806307] b= [ 0.30023482] loss= 0.000917581\n",
      "w= [ 0.09806307] b= [ 0.30023482] loss= 0.000917581\n",
      "w= [ 0.09806307] b= [ 0.30023482] loss= 0.000917581\n",
      "w= [ 0.09806307] b= [ 0.30023482] loss= 0.000917581\n",
      "w= [ 0.09806307] b= [ 0.30023482] loss= 0.000917581\n",
      "w= [ 0.09806307] b= [ 0.30023482] loss= 0.000917581\n",
      "w= [ 0.09806307] b= [ 0.30023482] loss= 0.000917581\n",
      "w= [ 0.09806307] b= [ 0.30023482] loss= 0.000917581\n",
      "w= [ 0.09806307] b= [ 0.30023482] loss= 0.000917581\n",
      "w= [ 0.09806307] b= [ 0.30023482] loss= 0.000917581\n",
      "w= [ 0.09806307] b= [ 0.30023482] loss= 0.000917581\n",
      "w= [ 0.09806307] b= [ 0.30023482] loss= 0.000917581\n",
      "w= [ 0.09806307] b= [ 0.30023482] loss= 0.000917581\n",
      "w= [ 0.09806307] b= [ 0.30023482] loss= 0.000917581\n",
      "w= [ 0.09806307] b= [ 0.30023482] loss= 0.000917581\n",
      "w= [ 0.09806307] b= [ 0.30023482] loss= 0.000917581\n",
      "w= [ 0.09806307] b= [ 0.30023482] loss= 0.000917581\n",
      "w= [ 0.09806307] b= [ 0.30023482] loss= 0.000917581\n",
      "w= [ 0.09806307] b= [ 0.30023482] loss= 0.000917581\n",
      "w= [ 0.09806307] b= [ 0.30023482] loss= 0.000917581\n",
      "w= [ 0.09806307] b= [ 0.30023482] loss= 0.000917581\n",
      "w= [ 0.09806307] b= [ 0.30023482] loss= 0.000917581\n",
      "w= [ 0.09806307] b= [ 0.30023482] loss= 0.000917581\n",
      "w= [ 0.09806307] b= [ 0.30023482] loss= 0.000917581\n",
      "w= [ 0.09806307] b= [ 0.30023482] loss= 0.000917581\n",
      "w= [ 0.09806307] b= [ 0.30023482] loss= 0.000917581\n",
      "w= [ 0.09806307] b= [ 0.30023482] loss= 0.000917581\n",
      "w= [ 0.09806307] b= [ 0.30023482] loss= 0.000917581\n",
      "w= [ 0.09806307] b= [ 0.30023482] loss= 0.000917581\n",
      "w= [ 0.09806307] b= [ 0.30023482] loss= 0.000917581\n",
      "w= [ 0.09806307] b= [ 0.30023482] loss= 0.000917581\n",
      "w= [ 0.09806307] b= [ 0.30023482] loss= 0.000917581\n",
      "w= [ 0.09806307] b= [ 0.30023482] loss= 0.000917581\n",
      "w= [ 0.09806307] b= [ 0.30023482] loss= 0.000917581\n",
      "w= [ 0.09806307] b= [ 0.30023482] loss= 0.000917581\n",
      "w= [ 0.09806307] b= [ 0.30023482] loss= 0.000917581\n",
      "w= [ 0.09806307] b= [ 0.30023482] loss= 0.000917581\n",
      "w= [ 0.09806307] b= [ 0.30023482] loss= 0.000917581\n",
      "w= [ 0.09806307] b= [ 0.30023482] loss= 0.000917581\n",
      "w= [ 0.09806307] b= [ 0.30023482] loss= 0.000917581\n",
      "w= [ 0.09806307] b= [ 0.30023482] loss= 0.000917581\n",
      "w= [ 0.09806307] b= [ 0.30023482] loss= 0.000917581\n",
      "w= [ 0.09806307] b= [ 0.30023482] loss= 0.000917581\n",
      "w= [ 0.09806307] b= [ 0.30023482] loss= 0.000917581\n",
      "w= [ 0.09806307] b= [ 0.30023482] loss= 0.000917581\n",
      "w= [ 0.09806307] b= [ 0.30023482] loss= 0.000917581\n",
      "w= [ 0.09806307] b= [ 0.30023482] loss= 0.000917581\n",
      "w= [ 0.09806307] b= [ 0.30023482] loss= 0.000917581\n",
      "w= [ 0.09806307] b= [ 0.30023482] loss= 0.000917581\n",
      "w= [ 0.09806307] b= [ 0.30023482] loss= 0.000917581\n",
      "w= [ 0.09806307] b= [ 0.30023482] loss= 0.000917581\n",
      "w= [ 0.09806307] b= [ 0.30023482] loss= 0.000917581\n",
      "w= [ 0.09806307] b= [ 0.30023482] loss= 0.000917581\n",
      "w= [ 0.09806307] b= [ 0.30023482] loss= 0.000917581\n",
      "w= [ 0.09806307] b= [ 0.30023482] loss= 0.000917581\n",
      "w= [ 0.09806307] b= [ 0.30023482] loss= 0.000917581\n",
      "w= [ 0.09806307] b= [ 0.30023482] loss= 0.000917581\n",
      "w= [ 0.09806307] b= [ 0.30023482] loss= 0.000917581\n",
      "w= [ 0.09806307] b= [ 0.30023482] loss= 0.000917581\n",
      "w= [ 0.09806307] b= [ 0.30023482] loss= 0.000917581\n",
      "w= [ 0.09806307] b= [ 0.30023482] loss= 0.000917581\n",
      "w= [ 0.09806307] b= [ 0.30023482] loss= 0.000917581\n",
      "w= [ 0.09806307] b= [ 0.30023482] loss= 0.000917581\n",
      "w= [ 0.09806307] b= [ 0.30023482] loss= 0.000917581\n",
      "w= [ 0.09806307] b= [ 0.30023482] loss= 0.000917581\n",
      "w= [ 0.09806307] b= [ 0.30023482] loss= 0.000917581\n",
      "w= [ 0.09806307] b= [ 0.30023482] loss= 0.000917581\n",
      "w= [ 0.09806307] b= [ 0.30023482] loss= 0.000917581\n",
      "w= [ 0.09806307] b= [ 0.30023482] loss= 0.000917581\n",
      "w= [ 0.09806307] b= [ 0.30023482] loss= 0.000917581\n",
      "w= [ 0.09806307] b= [ 0.30023482] loss= 0.000917581\n",
      "w= [ 0.09806307] b= [ 0.30023482] loss= 0.000917581\n",
      "w= [ 0.09806307] b= [ 0.30023482] loss= 0.000917581\n",
      "w= [ 0.09806307] b= [ 0.30023482] loss= 0.000917581\n",
      "w= [ 0.09806307] b= [ 0.30023482] loss= 0.000917581\n",
      "w= [ 0.09806307] b= [ 0.30023482] loss= 0.000917581\n",
      "w= [ 0.09806307] b= [ 0.30023482] loss= 0.000917581\n"
     ]
    }
   ],
   "source": [
    "# 通过\n",
    "# 生成1维的w矩阵，取值是 [-1,1]之间的随机数\n",
    "w=tf.Variable(tf.random_uniform([1],-1.0,1.0),name='W')\n",
    "# 生成1维的b矩阵，初始值是0\n",
    "b=tf.Variable(tf.zeros([1],name='b'))\n",
    "# 经过计算得出预估值 y\n",
    "y=w*x_data+b\n",
    "# 以估计值 y和实际值 y_data之间的均方差作为损失\n",
    "loss =tf.reduce_mean(tf.square(y-y_data),name='loss')\n",
    "# 采用梯度下降法来优化参数\n",
    "optimizer=tf.train.GradientDescentOptimizer(0.5)\n",
    "# 训练的过程就是最小化这个误差值\n",
    "train=optimizer.minimize(loss,name='train')\n",
    "\n",
    "sess=tf.Session()\n",
    "init=tf.global_variables_initializer()\n",
    "sess.run(init)\n",
    "print('w=',sess.run(w),'b=',sess.run(b),'loss=',sess.run(loss))\n",
    "# 执行20次训练\n",
    "for step in range(200):\n",
    "    sess.run(train)\n",
    "    # 输出训练好的 w和b\n",
    "    print('w=',sess.run(w),'b=',sess.run(b),'loss=',sess.run(loss))\n",
    "writer=tf.train.SummarySaverHook(sess.graph,scaffold=tf.train.Scaffold(summary_op=tf.summary.merge_all()))\n"
   ]
  },
  {
   "cell_type": "code",
   "execution_count": null,
   "metadata": {
    "collapsed": true,
    "jupyter": {
     "outputs_hidden": true
    }
   },
   "outputs": [],
   "source": []
  }
 ],
 "metadata": {
  "kernelspec": {
   "display_name": "Python 3",
   "language": "python",
   "name": "python3"
  },
  "language_info": {
   "codemirror_mode": {
    "name": "ipython",
    "version": 3
   },
   "file_extension": ".py",
   "mimetype": "text/x-python",
   "name": "python",
   "nbconvert_exporter": "python",
   "pygments_lexer": "ipython3",
   "version": "3.7.3"
  }
 },
 "nbformat": 4,
 "nbformat_minor": 4
}
