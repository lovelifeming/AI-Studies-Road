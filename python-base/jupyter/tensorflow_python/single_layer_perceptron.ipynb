{
 "cells": [
  {
   "cell_type": "code",
   "execution_count": 22,
   "metadata": {},
   "outputs": [],
   "source": [
    "import numpy as np\n",
    "import matplotlib.pyplot as plt\n",
    "\n",
    "# 单层感知器 示例:迭代找到能切分不同分类的切面，把不同的分类区分开，最后找到最佳分割线。\n",
    "# 单层感知器只能区分简单的易区分的数据，不能区分异或、交叉、多分类情况，\n",
    "# python 3.7"
   ]
  },
  {
   "cell_type": "code",
   "execution_count": 23,
   "metadata": {},
   "outputs": [
    {
     "name": "stdout",
     "output_type": "stream",
     "text": [
      "[ 0.75718826 -0.56974999  0.38939019]\n"
     ]
    }
   ],
   "source": [
    "# 输入数据\n",
    "X= np.array([[1,3,3],[1,4,3],[1,1,1]])\n",
    "# 标签\n",
    "Y=np.array([1,1,-1])\n",
    "# 权值初始化，1行3列，取值范围 -1到1\n",
    "W=(np.random.random(3)-0.5)*2\n",
    "print(W)\n",
    "# 学习率设置\n",
    "lr=0.11\n",
    "# 计算迭代次数\n",
    "N=0\n",
    "# 神经网络输出\n",
    "O=0\n",
    "def update():\n",
    "    global X,Y,W,lr,N\n",
    "    N+=1\n",
    "    o=np.sign(np.dot(X,W.T))\n",
    "    wc=lr*(Y-o.T).dot(X)/X.shape[0]\n",
    "    W=W+wc\n"
   ]
  },
  {
   "cell_type": "code",
   "execution_count": 24,
   "metadata": {},
   "outputs": [
    {
     "name": "stdout",
     "output_type": "stream",
     "text": [
      "[ 0.75718826 -0.34974999  0.53605686]\n",
      "1\n",
      "[ 0.68385493 -0.42308332  0.46272352]\n",
      "2\n",
      "[ 0.61052159 -0.49641665  0.38939019]\n",
      "3\n",
      "[ 0.61052159 -0.27641665  0.53605686]\n",
      "4\n",
      "[ 0.53718826 -0.34974999  0.46272352]\n",
      "5\n",
      "[ 0.46385493 -0.42308332  0.38939019]\n",
      "6\n",
      "[ 0.46385493 -0.20308332  0.53605686]\n",
      "7\n",
      "[ 0.39052159 -0.27641665  0.46272352]\n",
      "8\n",
      "[ 0.31718826 -0.34974999  0.38939019]\n",
      "9\n",
      "[ 0.24385493 -0.42308332  0.31605686]\n",
      "10\n",
      "[0.31718826 0.01691668 0.68272352]\n",
      "11\n",
      "[ 0.24385493 -0.05641665  0.60939019]\n",
      "12\n",
      "[ 0.17052159 -0.12974999  0.53605686]\n",
      "13\n",
      "[ 0.09718826 -0.20308332  0.46272352]\n",
      "14\n",
      "[ 0.02385493 -0.27641665  0.38939019]\n",
      "15\n",
      "[-0.04947841 -0.34974999  0.31605686]\n",
      "16\n",
      "[0.09718826 0.16358335 0.75605686]\n",
      "17\n",
      "[0.02385493 0.09025001 0.68272352]\n",
      "18\n",
      "[-0.04947841  0.01691668  0.60939019]\n",
      "19\n",
      "[-0.12281174 -0.05641665  0.53605686]\n",
      "20\n",
      "[-0.19614507 -0.12974999  0.46272352]\n",
      "21\n",
      "[-0.26947841 -0.20308332  0.38939019]\n",
      "22\n",
      "Finished\n",
      "epoch: 22\n",
      "k= 0.5215419563069299\n",
      "d= 0.6920523781495904\n"
     ]
    },
    {
     "data": {
      "image/png": "[encoded data removed]",
      "text/plain": [
       "<Figure size 432x288 with 1 Axes>"
      ]
     },
     "metadata": {
      "needs_background": "light"
     },
     "output_type": "display_data"
    }
   ],
   "source": [
    "for _ in range(100):\n",
    "    update() # 更新权值\n",
    "    print(W)\n",
    "    print(N) # 当前迭代次数\n",
    "    O=np.sign(np.dot(X,W.T)) # 计算当前输出\n",
    "    if(O==Y.T).all():  # 如果实际输出等于期望输出，模型收敛，循环结束\n",
    "        print('Finished')\n",
    "        print('epoch:',N)\n",
    "        break\n",
    "# 正样本\n",
    "x1=[3,4]\n",
    "y1=[3,4]\n",
    "# 负样本\n",
    "x2=[1]\n",
    "y2=[1]\n",
    "# 计算分界线的斜率以及截距\n",
    "k=-W[1]/W[2]\n",
    "d=-W[0]/W[2]\n",
    "print('k=',k)\n",
    "print('d=',d)\n",
    "xdata=np.linspace(0,5)\n",
    "plt.figure()\n",
    "plt.plot(xdata,xdata*k+d,'r')\n",
    "plt.plot(x1,y1,'bo')\n",
    "plt.plot(x2,y2,'yo')\n",
    "plt.show()    "
   ]
  },
  {
   "cell_type": "code",
   "execution_count": null,
   "metadata": {},
   "outputs": [],
   "source": []
  }
 ],
 "metadata": {
  "kernelspec": {
   "display_name": "Python 3",
   "language": "python",
   "name": "python3"
  },
  "language_info": {
   "codemirror_mode": {
    "name": "ipython",
    "version": 3
   },
   "file_extension": ".py",
   "mimetype": "text/x-python",
   "name": "python",
   "nbconvert_exporter": "python",
   "pygments_lexer": "ipython3",
   "version": "3.6.10"
  }
 },
 "nbformat": 4,
 "nbformat_minor": 4
}
