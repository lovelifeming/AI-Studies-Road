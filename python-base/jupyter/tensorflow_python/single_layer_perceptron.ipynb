{
 "cells": [
  {
   "cell_type": "code",
   "execution_count": 4,
   "metadata": {},
   "outputs": [],
   "source": [
    "import numpy as np\n",
    "import matplotlib.pyplot as plt\n",
    "\n",
    "# 单层感知器 示例\n",
    "\n",
    "# python 3.7"
   ]
  },
  {
   "cell_type": "code",
   "execution_count": 7,
   "metadata": {},
   "outputs": [
    {
     "name": "stdout",
     "output_type": "stream",
     "text": [
      "[ 0.50681944 -0.28998601 -0.23053911]\n"
     ]
    }
   ],
   "source": [
    "# 输入数据\n",
    "X= np.array([[1,3,3],[1,4,3],[1,1,1]])\n",
    "Y=np.array([1,1,-1])\n",
    "# 权值初始化，1行3列，取值范围 -1到1\n",
    "W=(np.random.random(3)-0.5)*2\n",
    "print(W)\n",
    "# 学习率设置\n",
    "lr=0.11\n",
    "# 计算迭代次数\n",
    "N=0\n",
    "# 神经网络输出\n",
    "O=0\n",
    "def update():\n",
    "    global X,Y,W,lr,N\n",
    "    n+=1\n",
    "    o=np.sign(np.dot(X,W.T))\n",
    "    wc=lr*(Y-o.T).dot(X)/X.shape[0]\n",
    "    W=W+wc\n",
    "\n",
    "\n"
   ]
  },
  {
   "cell_type": "code",
   "execution_count": null,
   "metadata": {},
   "outputs": [],
   "source": [
    "for _ in range(100):\n",
    "    update() # 更新权值\n",
    "    print(W)\n",
    "    print(n) # 当前迭代次数\n",
    "    O=np.sign(np.dot(X,W.T)) # 计算当前输出\n",
    "    if(O=Y.T).all():  # 如果实际输出等于期望输出，模型收敛，循环结束\n",
    "        print('Finished')\n",
    "        print('epoch:',n)\n",
    "        break\n",
    "# 正样本\n",
    "x1=[3,4]\n",
    "y1=[3,4]\n",
    "# 负样本\n",
    "x2=[1]\n",
    "y2=[1]\n",
    "# 计算分界线的斜率以及截距\n",
    "k=-W[1]/W[2]\n",
    "d=-W[0]/W[2]\n",
    "\n",
    "\n",
    "    "
   ]
  },
  {
   "cell_type": "code",
   "execution_count": null,
   "metadata": {},
   "outputs": [],
   "source": []
  },
  {
   "cell_type": "code",
   "execution_count": null,
   "metadata": {},
   "outputs": [],
   "source": []
  }
 ],
 "metadata": {
  "kernelspec": {
   "display_name": "Python 3",
   "language": "python",
   "name": "python3"
  },
  "language_info": {
   "codemirror_mode": {
    "name": "ipython",
    "version": 3
   },
   "file_extension": ".py",
   "mimetype": "text/x-python",
   "name": "python",
   "nbconvert_exporter": "python",
   "pygments_lexer": "ipython3",
   "version": "3.7.4"
  }
 },
 "nbformat": 4,
 "nbformat_minor": 4
}
