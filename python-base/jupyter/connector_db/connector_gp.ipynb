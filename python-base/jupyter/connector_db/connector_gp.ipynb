{
 "cells": [
  {
   "cell_type": "code",
   "execution_count": 15,
   "metadata": {
    "collapsed": true,
    "jupyter": {
     "outputs_hidden": true
    }
   },
   "outputs": [],
   "source": [
    "import datetime\n",
    "import time\n",
    "import psycopg2.extras\n",
    "from influxdb import InfluxDBClient"
   ]
  },
  {
   "cell_type": "code",
   "execution_count": 16,
   "metadata": {
    "collapsed": true,
    "jupyter": {
     "outputs_hidden": true
    }
   },
   "outputs": [],
   "source": [
    "gp_db = psycopg2.connect(dbname=\"testdb\", user=\"gpadmin\", password=\"gpadmin\", host=\"192.1.1.100\", port=\"5432\")\n",
    "\n",
    "cur = gp_db.cursor(cursor_factory=psycopg2.extras.RealDictCursor)"
   ]
  },
  {
   "cell_type": "code",
   "execution_count": 17,
   "metadata": {},
   "outputs": [
    {
     "name": "stdout",
     "output_type": "stream",
     "text": [
      "RealDictRow([('device_id', '101001001'), ('type_id', '101001'), ('device_name', 'BD1轧机主电机'), ('device_en', 'BD1_1'), ('order_info', 1)])\n"
     ]
    }
   ],
   "source": [
    "cur.execute(\"SELECT * FROM bd.bd_app_device\")\n",
    "result = cur.fetchone()  #获取一个数据\n",
    "print(result)"
   ]
  },
  {
   "cell_type": "code",
   "execution_count": 20,
   "metadata": {},
   "outputs": [
    {
     "name": "stdout",
     "output_type": "stream",
     "text": [
      "RealDictRow([('device_id', '100001001'), ('type_id', '100001'), ('device_name', '1#加热炉'), ('device_en', 'HF1'), ('order_info', 1)])\n"
     ]
    }
   ],
   "source": [
    "cur.execute(\"SELECT * FROM bd.bd_app_device\")\n",
    "result = cur.fetchall()  #获取所有数据\n",
    "print(result[0])"
   ]
  },
  {
   "cell_type": "code",
   "execution_count": 22,
   "metadata": {},
   "outputs": [
    {
     "name": "stdout",
     "output_type": "stream",
     "text": [
      "1464\n"
     ]
    }
   ],
   "source": [
    "cur.execute(\"select adp.point_en_name,bdad.device_name,bdad.device_id from bd.bd_app_device_point AS adp LEFT JOIN bd.bd_app_device AS bdad ON adp.device_id=bdad.device_id\")\n",
    "result = cur.fetchall()\n",
    "device_dict={}\n",
    "for i in range(len(result)):\n",
    "    device_dict[result[i]['point_en_name']]=result[i]\n",
    "print(len(device_dict))"
   ]
  },
  {
   "cell_type": "code",
   "execution_count": null,
   "metadata": {
    "collapsed": true,
    "jupyter": {
     "outputs_hidden": true
    }
   },
   "outputs": [],
   "source": []
  }
 ],
 "metadata": {
  "kernelspec": {
   "display_name": "Python 3",
   "language": "python",
   "name": "python3"
  },
  "language_info": {
   "codemirror_mode": {
    "name": "ipython",
    "version": 3
   },
   "file_extension": ".py",
   "mimetype": "text/x-python",
   "name": "python",
   "nbconvert_exporter": "python",
   "pygments_lexer": "ipython3",
   "version": "3.7.3"
  }
 },
 "nbformat": 4,
 "nbformat_minor": 4
}
