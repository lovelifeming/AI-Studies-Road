{
 "cells": [
  {
   "cell_type": "code",
   "execution_count": 7,
   "metadata": {},
   "outputs": [],
   "source": [
    "from elasticsearch import Elasticsearch"
   ]
  },
  {
   "cell_type": "code",
   "execution_count": 8,
   "metadata": {},
   "outputs": [],
   "source": [
    "# 连接 ES\n",
    "es = Elasticsearch(['10.130.0.44'],http_auth=('bigdata', 'bigdata'), port=9201)\n",
    "# 插入数据到 ES\n",
    "data={\"data_source_abbreviation\":\"CHINACD\",\"area\": \"四川\",\"city\": \"成都\"}\n",
    "es.index(index=\"index_key_ad\", doc_type='index_key_address', body=data)\n",
    "#构建查询语句，查询 ES\n",
    "query = {\n",
    "            \"query\": {\n",
    "                \"bool\": {\n",
    "                    \"must\": [\n",
    "                        {\"match_phrase\": {\"data_source_abbreviation\": \"CHINACD\"}},\n",
    "                        {\"match_phrase\": {\"area\": \"四川\"}},\n",
    "                        {\"match_phrase\": {\"city\": \"成都\"}}\n",
    "                    ]\n",
    "                }\n",
    "            }\n",
    "        }\n",
    "result=es.search(index=\"index_key_ad\", body=query)\n",
    "print(result)"
   ]
  },
  {
   "cell_type": "code",
   "execution_count": 9,
   "metadata": {},
   "outputs": [
    {
     "name": "stdout",
     "output_type": "stream",
     "text": [
      "{'took': 1, 'timed_out': False, '_shards': {'total': 5, 'successful': 5, 'skipped': 0, 'failed': 0}, 'hits': {'total': 0, 'max_score': None, 'hits': []}}\n"
     ]
    }
   ],
   "source": []
  },
  {
   "cell_type": "code",
   "execution_count": null,
   "metadata": {},
   "outputs": [],
   "source": []
  }
 ],
 "metadata": {
  "kernelspec": {
   "display_name": "Python 3",
   "language": "python",
   "name": "python3"
  },
  "language_info": {
   "codemirror_mode": {
    "name": "ipython",
    "version": 3
   },
   "file_extension": ".py",
   "mimetype": "text/x-python",
   "name": "python",
   "nbconvert_exporter": "python",
   "pygments_lexer": "ipython3",
   "version": "3.7.3"
  }
 },
 "nbformat": 4,
 "nbformat_minor": 4
}
