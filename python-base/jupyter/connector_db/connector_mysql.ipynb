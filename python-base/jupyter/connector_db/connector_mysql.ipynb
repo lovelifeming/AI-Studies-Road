{
 "cells": [
  {
   "cell_type": "code",
   "execution_count": 22,
   "metadata": {},
   "outputs": [],
   "source": [
    "from twisted.enterprise import adbapi\n",
    "from twisted.internet import reactor\n",
    "import pymysql"
   ]
  },
  {
   "cell_type": "code",
   "execution_count": 23,
   "metadata": {},
   "outputs": [],
   "source": [
    "class TwMysql(object):\n",
    "    def __init__(self, host=\"localhost\", port=3306, user=\"root\", passwd=\"123456\", db=\"test_db\", charset='utf8'):\n",
    "        # 连接数据库\n",
    "        self.dbpool = adbapi.ConnectionPool('pymysql', host=host, port=port, user=user, passwd=passwd,\n",
    "                                            db=db, charset=charset)\n",
    "\n",
    "    def run_query(self, query, values):\n",
    "        res = self.dbpool.runQuery(query, values).addCallback(self._run_query)\n",
    "        return res\n",
    "\n",
    "    def _run_query(self, val):\n",
    "        if val:\n",
    "            print('data: ', val[0][0])\n",
    "        else:\n",
    "            print('No such data.')\n",
    "\n",
    "    def execute_asyn(self, item):\n",
    "        res = self.dbpool.runInteraction(self._execute, item)\n",
    "        # 添加异常处理\n",
    "        res.addCallback(self._error_call_back)\n",
    "        # 暂停 2s 之后调用 reactor.stop，用于等待异步调用执行结果\n",
    "#         reactor.callLater(2, reactor.stop)\n",
    "#         reactor.run()\n",
    "        return res\n",
    "\n",
    "    def _execute(self, cursor, item):\n",
    "        res = cursor.execute(item['sql'], item['values'])\n",
    "        return res\n",
    "\n",
    "    def _error_call_back(self, failure):\n",
    "        # 处理异步插入时的异常\n",
    "        if failure:\n",
    "            print('error call back:', failure)\n",
    "        else:\n",
    "            print('error call back:', failure)\n",
    "        return failure\n",
    "\n",
    "    def close_pool(self):\n",
    "        # 关闭连接\n",
    "        self.dbpool.close()\n",
    "        \n",
    "conn_param={\"host\":\"localhost\", \"port\":3306, \"user\":\"root\",\"passwd\":\"123456\", \n",
    "                         \"db\":\"test_db\", \"charset\":'utf8'}\n",
    "tw=TwMysql(**conn_param)"
   ]
  },
  {
   "cell_type": "code",
   "execution_count": 24,
   "metadata": {},
   "outputs": [
    {
     "name": "stdout",
     "output_type": "stream",
     "text": [
      "<Deferred at 0x6822240>\n"
     ]
    }
   ],
   "source": [
    "item = dict()\n",
    "item['sql'] = \"SELECT * FROM `student` WHERE user_sex=%s\"\n",
    "item['values'] = \"女\"\n",
    "res = tw.execute_asyn(item)\n",
    "print(res)"
   ]
  },
  {
   "cell_type": "code",
   "execution_count": null,
   "metadata": {},
   "outputs": [],
   "source": []
  },
  {
   "cell_type": "code",
   "execution_count": 25,
   "metadata": {},
   "outputs": [],
   "source": [
    "class PyMysql(object):\n",
    "    def __init__(self, host=\"localhost\", port=3306, user=\"root\", passwd=\"123456\", db=\"test_db\", charset='utf8'):\n",
    "        # 连接数据库\n",
    "        self.connect = pymysql.connect(host=host, port=port, user=user, passwd=passwd, db=db, charset=charset)\n",
    "        self.cursor = self.connect.cursor()\n",
    "\n",
    "    def query_one(self, query):\n",
    "        self.cursor.execute(query)\n",
    "        res = self.cursor.fetchone()\n",
    "        return res\n",
    "\n",
    "    def query_all(self, query):\n",
    "        self.cursor.execute(query)\n",
    "        res = self.cursor.fetchall()\n",
    "        return res\n",
    "\n",
    "    def execute(self, sql, values=None):\n",
    "        # 执行数据库数据操作\n",
    "        self.cursor.execute(sql, values)\n",
    "        # 提交，不进行提交无法保存到数据库\n",
    "        self.connect.commit()\n",
    "        res = self.cursor.fetchall()\n",
    "        return res\n",
    "\n",
    "    def close_spider(self, spider):\n",
    "        # 关闭游标和连接\n",
    "        self.cursor.close()\n",
    "        self.connect.close()\n",
    "conn_param = {\"host\": \"localhost\", \"port\": 3306, \"user\": \"root\", \"passwd\": \"123456\",\n",
    "              \"db\": \"test_db\", \"charset\": 'utf8'}\n",
    "pm = PyMysql(**conn_param)\n"
   ]
  },
  {
   "cell_type": "code",
   "execution_count": 26,
   "metadata": {},
   "outputs": [],
   "source": []
  },
  {
   "cell_type": "raw",
   "metadata": {},
   "source": []
  },
  {
   "cell_type": "code",
   "execution_count": null,
   "metadata": {},
   "outputs": [],
   "source": []
  }
 ],
 "metadata": {
  "kernelspec": {
   "display_name": "Python 3",
   "language": "python",
   "name": "python3"
  },
  "language_info": {
   "codemirror_mode": {
    "name": "ipython",
    "version": 3
   },
   "file_extension": ".py",
   "mimetype": "text/x-python",
   "name": "python",
   "nbconvert_exporter": "python",
   "pygments_lexer": "ipython3",
   "version": "3.7.3"
  }
 },
 "nbformat": 4,
 "nbformat_minor": 4
}
