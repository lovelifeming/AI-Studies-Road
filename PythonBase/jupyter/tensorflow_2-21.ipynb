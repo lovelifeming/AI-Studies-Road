{
 "cells": [
  {
   "cell_type": "code",
   "execution_count": 55,
   "metadata": {
    "collapsed": true
   },
   "outputs": [],
   "source": [
    "import tensorflow as tf\n",
    "import numpy as np\n",
    "import matplotlib.pyplot as plt\n",
    "# python3.5 environment "
   ]
  },
  {
   "cell_type": "code",
   "execution_count": 56,
   "metadata": {},
   "outputs": [
    {
     "name": "stdout",
     "output_type": "stream",
     "text": [
      "<bound method Tensor.eval of <tf.Tensor 'MatMul_7:0' shape=(1, 1) dtype=float32>>\n",
      "<tf.Variable 'Variable_15:0' shape=(2, 1) dtype=float32_ref>\n",
      "Tensor(\"MatMul_7:0\", shape=(1, 1), dtype=float32)\n"
     ]
    }
   ],
   "source": [
    "# tensorflow 初始化环境变量\n",
    "w=tf.Variable([[0.5,1.0]])\n",
    "x=tf.Variable([[2.0],[3.0]])\n",
    "y=tf.matmul(w,x)\n",
    "\n",
    "init_op=tf.global_variables_initializer()\n",
    "with tf.Session() as sess:\n",
    "    sess.run(init_op)\n",
    "    print(y.eval)\n",
    "print(x)\n",
    "print(y)"
   ]
  },
  {
   "cell_type": "code",
   "execution_count": 57,
   "metadata": {},
   "outputs": [
    {
     "data": {
      "text/plain": [
       "<tf.Tensor 'range_4:0' shape=(5,) dtype=int32>"
      ]
     },
     "execution_count": 57,
     "metadata": {},
     "output_type": "execute_result"
    }
   ],
   "source": [
    "# 构建数字对象\n",
    "\n",
    "tensor=tf.constant([1,2,3,4,5,6,7,]) # [1,2,3,4,5,6,7]\n",
    "tensor=tf.constant(-1.0,shape=[2,3]) # [[-1.,-1.,-1.],[-1.,-1.,-1.]]\n",
    "tf.linspace(10.0,12.0,3,name=\"linspace\") # [ 10.0 11.0 12.0]\n",
    "start=3\n",
    "limit=18\n",
    "delta=3\n",
    "tf.range(start,limit,delta)\n"
   ]
  },
  {
   "cell_type": "code",
   "execution_count": 58,
   "metadata": {},
   "outputs": [
    {
     "name": "stdout",
     "output_type": "stream",
     "text": [
      "[[-3.91113281 -0.75456893 -3.8479445 ]\n",
      " [-2.28838253 -0.0696016   3.72664499]]\n",
      "[[1 2]\n",
      " [5 6]\n",
      " [3 4]]\n"
     ]
    }
   ],
   "source": [
    "# 随机数\n",
    "nrm=tf.random_normal([2,3],mean=-1,stddev=4)\n",
    "\n",
    "c=tf.constant([[1,2],[3,4],[5,6]])\n",
    "shuff=tf.random_shuffle(c)\n",
    "sess=tf.Session()\n",
    "print(sess.run(nrm))\n",
    "print(sess.run(shuff))\n"
   ]
  },
  {
   "cell_type": "code",
   "execution_count": 59,
   "metadata": {},
   "outputs": [
    {
     "name": "stdout",
     "output_type": "stream",
     "text": [
      "[[ 0.  0.  0.]\n",
      " [ 0.  0.  0.]\n",
      " [ 0.  0.  0.]]\n"
     ]
    }
   ],
   "source": [
    "arr=np.zeros((3,3))\n",
    "tarr=tf.convert_to_tensor(arr)\n",
    "with tf.Session() as sess:\n",
    "    print(sess.run(tarr))\n"
   ]
  },
  {
   "cell_type": "code",
   "execution_count": 61,
   "metadata": {},
   "outputs": [
    {
     "data": {
      "image/png": "[encoded data removed]",
      "text/plain": [
       "<matplotlib.figure.Figure at 0x2e4eb060d68>"
      ]
     },
     "metadata": {},
     "output_type": "display_data"
    }
   ],
   "source": [
    "# 随机生成1000 个点，围绕在 y=0.1x+0.3的直线周围，生成样本数据\n",
    "num_points=1000\n",
    "vectors_set=[]\n",
    "for i in range(num_points):\n",
    "    x=np.random.normal(0.0,0.55)\n",
    "    y=x*0.1+0.3+np.random.normal(0.0,0.03)\n",
    "    vectors_set.append([x,y])\n",
    "# 生成一些样本\n",
    "x_data=[v[0] for v in vectors_set]\n",
    "y_data=[v[1] for v in vectors_set]\n",
    "plt.scatter(x_data,y_data,c='r')\n",
    "plt.show()\n"
   ]
  },
  {
   "cell_type": "code",
   "execution_count": 73,
   "metadata": {},
   "outputs": [
    {
     "name": "stdout",
     "output_type": "stream",
     "text": [
      "w= [ 0.35214806] b= [ 0.] loss= 0.109159\n",
      "w= [ 0.27600911] b= [ 0.29621515] loss= 0.0109077\n",
      "w= [ 0.21927287] b= [ 0.29753482] loss= 0.0055027\n",
      "w= [ 0.1807979] b= [ 0.29851821] loss= 0.00301684\n",
      "w= [ 0.15470505] b= [ 0.2991851] loss= 0.00187353\n",
      "w= [ 0.13700947] b= [ 0.29963738] loss= 0.00134769\n",
      "w= [ 0.12500873] b= [ 0.29994407] loss= 0.00110584\n",
      "w= [ 0.11687011] b= [ 0.30015209] loss= 0.000994613\n",
      "w= [ 0.11135068] b= [ 0.30029315] loss= 0.000943456\n",
      "w= [ 0.10760753] b= [ 0.30038881] loss= 0.000919927\n",
      "w= [ 0.105069] b= [ 0.30045369] loss= 0.000909106\n",
      "w= [ 0.10334744] b= [ 0.30049771] loss= 0.000904129\n",
      "w= [ 0.10217991] b= [ 0.30052754] loss= 0.00090184\n",
      "w= [ 0.10138812] b= [ 0.30054778] loss= 0.000900787\n",
      "w= [ 0.10085115] b= [ 0.30056149] loss= 0.000900303\n",
      "w= [ 0.10048699] b= [ 0.30057082] loss= 0.00090008\n",
      "w= [ 0.10024001] b= [ 0.30057713] loss= 0.000899978\n",
      "w= [ 0.10007253] b= [ 0.3005814] loss= 0.000899931\n",
      "w= [ 0.09995894] b= [ 0.30058432] loss= 0.000899909\n",
      "w= [ 0.09988191] b= [ 0.30058628] loss= 0.000899899\n",
      "w= [ 0.09982967] b= [ 0.30058759] loss= 0.000899894\n",
      "w= [ 0.09979424] b= [ 0.30058852] loss= 0.000899892\n",
      "w= [ 0.09977021] b= [ 0.30058911] loss= 0.000899891\n",
      "w= [ 0.09975392] b= [ 0.30058953] loss= 0.000899891\n",
      "w= [ 0.09974287] b= [ 0.30058983] loss= 0.000899891\n",
      "w= [ 0.09973537] b= [ 0.30059001] loss= 0.00089989\n",
      "w= [ 0.09973029] b= [ 0.30059016] loss= 0.00089989\n",
      "w= [ 0.09972684] b= [ 0.30059025] loss= 0.00089989\n",
      "w= [ 0.0997245] b= [ 0.30059031] loss= 0.00089989\n",
      "w= [ 0.09972291] b= [ 0.30059034] loss= 0.00089989\n",
      "w= [ 0.09972184] b= [ 0.30059037] loss= 0.00089989\n",
      "w= [ 0.09972111] b= [ 0.3005904] loss= 0.000899891\n",
      "w= [ 0.09972062] b= [ 0.3005904] loss= 0.00089989\n",
      "w= [ 0.09972028] b= [ 0.3005904] loss= 0.00089989\n",
      "w= [ 0.09972006] b= [ 0.3005904] loss= 0.00089989\n",
      "w= [ 0.0997199] b= [ 0.30059043] loss= 0.000899891\n",
      "w= [ 0.0997198] b= [ 0.30059043] loss= 0.000899891\n",
      "w= [ 0.09971973] b= [ 0.30059043] loss= 0.000899891\n",
      "w= [ 0.09971968] b= [ 0.30059043] loss= 0.000899891\n",
      "w= [ 0.09971965] b= [ 0.30059043] loss= 0.000899891\n",
      "w= [ 0.09971963] b= [ 0.30059043] loss= 0.000899891\n",
      "w= [ 0.09971961] b= [ 0.30059043] loss= 0.000899891\n",
      "w= [ 0.09971961] b= [ 0.30059043] loss= 0.000899891\n",
      "w= [ 0.0997196] b= [ 0.30059043] loss= 0.000899891\n",
      "w= [ 0.09971959] b= [ 0.30059043] loss= 0.000899891\n",
      "w= [ 0.09971959] b= [ 0.30059043] loss= 0.000899891\n",
      "w= [ 0.09971959] b= [ 0.30059043] loss= 0.000899891\n",
      "w= [ 0.09971959] b= [ 0.30059043] loss= 0.000899891\n",
      "w= [ 0.09971959] b= [ 0.30059043] loss= 0.000899891\n",
      "w= [ 0.09971959] b= [ 0.30059043] loss= 0.000899891\n",
      "w= [ 0.09971959] b= [ 0.30059043] loss= 0.000899891\n",
      "w= [ 0.09971959] b= [ 0.30059043] loss= 0.000899891\n",
      "w= [ 0.09971959] b= [ 0.30059043] loss= 0.000899891\n",
      "w= [ 0.09971959] b= [ 0.30059043] loss= 0.000899891\n",
      "w= [ 0.09971959] b= [ 0.30059043] loss= 0.000899891\n",
      "w= [ 0.09971959] b= [ 0.30059043] loss= 0.000899891\n",
      "w= [ 0.09971959] b= [ 0.30059043] loss= 0.000899891\n",
      "w= [ 0.09971959] b= [ 0.30059043] loss= 0.000899891\n",
      "w= [ 0.09971959] b= [ 0.30059043] loss= 0.000899891\n",
      "w= [ 0.09971959] b= [ 0.30059043] loss= 0.000899891\n",
      "w= [ 0.09971959] b= [ 0.30059043] loss= 0.000899891\n",
      "w= [ 0.09971959] b= [ 0.30059043] loss= 0.000899891\n",
      "w= [ 0.09971959] b= [ 0.30059043] loss= 0.000899891\n",
      "w= [ 0.09971959] b= [ 0.30059043] loss= 0.000899891\n",
      "w= [ 0.09971959] b= [ 0.30059043] loss= 0.000899891\n",
      "w= [ 0.09971959] b= [ 0.30059043] loss= 0.000899891\n",
      "w= [ 0.09971959] b= [ 0.30059043] loss= 0.000899891\n",
      "w= [ 0.09971959] b= [ 0.30059043] loss= 0.000899891\n",
      "w= [ 0.09971959] b= [ 0.30059043] loss= 0.000899891\n",
      "w= [ 0.09971959] b= [ 0.30059043] loss= 0.000899891\n",
      "w= [ 0.09971959] b= [ 0.30059043] loss= 0.000899891\n",
      "w= [ 0.09971959] b= [ 0.30059043] loss= 0.000899891\n",
      "w= [ 0.09971959] b= [ 0.30059043] loss= 0.000899891\n",
      "w= [ 0.09971959] b= [ 0.30059043] loss= 0.000899891\n",
      "w= [ 0.09971959] b= [ 0.30059043] loss= 0.000899891\n",
      "w= [ 0.09971959] b= [ 0.30059043] loss= 0.000899891\n",
      "w= [ 0.09971959] b= [ 0.30059043] loss= 0.000899891\n",
      "w= [ 0.09971959] b= [ 0.30059043] loss= 0.000899891\n",
      "w= [ 0.09971959] b= [ 0.30059043] loss= 0.000899891\n",
      "w= [ 0.09971959] b= [ 0.30059043] loss= 0.000899891\n",
      "w= [ 0.09971959] b= [ 0.30059043] loss= 0.000899891\n",
      "w= [ 0.09971959] b= [ 0.30059043] loss= 0.000899891\n",
      "w= [ 0.09971959] b= [ 0.30059043] loss= 0.000899891\n",
      "w= [ 0.09971959] b= [ 0.30059043] loss= 0.000899891\n",
      "w= [ 0.09971959] b= [ 0.30059043] loss= 0.000899891\n",
      "w= [ 0.09971959] b= [ 0.30059043] loss= 0.000899891\n",
      "w= [ 0.09971959] b= [ 0.30059043] loss= 0.000899891\n",
      "w= [ 0.09971959] b= [ 0.30059043] loss= 0.000899891\n",
      "w= [ 0.09971959] b= [ 0.30059043] loss= 0.000899891\n",
      "w= [ 0.09971959] b= [ 0.30059043] loss= 0.000899891\n",
      "w= [ 0.09971959] b= [ 0.30059043] loss= 0.000899891\n",
      "w= [ 0.09971959] b= [ 0.30059043] loss= 0.000899891\n",
      "w= [ 0.09971959] b= [ 0.30059043] loss= 0.000899891\n",
      "w= [ 0.09971959] b= [ 0.30059043] loss= 0.000899891\n",
      "w= [ 0.09971959] b= [ 0.30059043] loss= 0.000899891\n",
      "w= [ 0.09971959] b= [ 0.30059043] loss= 0.000899891\n",
      "w= [ 0.09971959] b= [ 0.30059043] loss= 0.000899891\n",
      "w= [ 0.09971959] b= [ 0.30059043] loss= 0.000899891\n",
      "w= [ 0.09971959] b= [ 0.30059043] loss= 0.000899891\n",
      "w= [ 0.09971959] b= [ 0.30059043] loss= 0.000899891\n",
      "w= [ 0.09971959] b= [ 0.30059043] loss= 0.000899891\n",
      "w= [ 0.09971959] b= [ 0.30059043] loss= 0.000899891\n",
      "w= [ 0.09971959] b= [ 0.30059043] loss= 0.000899891\n",
      "w= [ 0.09971959] b= [ 0.30059043] loss= 0.000899891\n",
      "w= [ 0.09971959] b= [ 0.30059043] loss= 0.000899891\n",
      "w= [ 0.09971959] b= [ 0.30059043] loss= 0.000899891\n",
      "w= [ 0.09971959] b= [ 0.30059043] loss= 0.000899891\n",
      "w= [ 0.09971959] b= [ 0.30059043] loss= 0.000899891\n",
      "w= [ 0.09971959] b= [ 0.30059043] loss= 0.000899891\n",
      "w= [ 0.09971959] b= [ 0.30059043] loss= 0.000899891\n",
      "w= [ 0.09971959] b= [ 0.30059043] loss= 0.000899891\n",
      "w= [ 0.09971959] b= [ 0.30059043] loss= 0.000899891\n",
      "w= [ 0.09971959] b= [ 0.30059043] loss= 0.000899891\n",
      "w= [ 0.09971959] b= [ 0.30059043] loss= 0.000899891\n",
      "w= [ 0.09971959] b= [ 0.30059043] loss= 0.000899891\n",
      "w= [ 0.09971959] b= [ 0.30059043] loss= 0.000899891\n",
      "w= [ 0.09971959] b= [ 0.30059043] loss= 0.000899891\n",
      "w= [ 0.09971959] b= [ 0.30059043] loss= 0.000899891\n",
      "w= [ 0.09971959] b= [ 0.30059043] loss= 0.000899891\n",
      "w= [ 0.09971959] b= [ 0.30059043] loss= 0.000899891\n",
      "w= [ 0.09971959] b= [ 0.30059043] loss= 0.000899891\n",
      "w= [ 0.09971959] b= [ 0.30059043] loss= 0.000899891\n",
      "w= [ 0.09971959] b= [ 0.30059043] loss= 0.000899891\n",
      "w= [ 0.09971959] b= [ 0.30059043] loss= 0.000899891\n",
      "w= [ 0.09971959] b= [ 0.30059043] loss= 0.000899891\n",
      "w= [ 0.09971959] b= [ 0.30059043] loss= 0.000899891\n",
      "w= [ 0.09971959] b= [ 0.30059043] loss= 0.000899891\n",
      "w= [ 0.09971959] b= [ 0.30059043] loss= 0.000899891\n",
      "w= [ 0.09971959] b= [ 0.30059043] loss= 0.000899891\n",
      "w= [ 0.09971959] b= [ 0.30059043] loss= 0.000899891\n",
      "w= [ 0.09971959] b= [ 0.30059043] loss= 0.000899891\n",
      "w= [ 0.09971959] b= [ 0.30059043] loss= 0.000899891\n",
      "w= [ 0.09971959] b= [ 0.30059043] loss= 0.000899891\n",
      "w= [ 0.09971959] b= [ 0.30059043] loss= 0.000899891\n",
      "w= [ 0.09971959] b= [ 0.30059043] loss= 0.000899891\n",
      "w= [ 0.09971959] b= [ 0.30059043] loss= 0.000899891\n",
      "w= [ 0.09971959] b= [ 0.30059043] loss= 0.000899891\n",
      "w= [ 0.09971959] b= [ 0.30059043] loss= 0.000899891\n",
      "w= [ 0.09971959] b= [ 0.30059043] loss= 0.000899891\n",
      "w= [ 0.09971959] b= [ 0.30059043] loss= 0.000899891\n",
      "w= [ 0.09971959] b= [ 0.30059043] loss= 0.000899891\n",
      "w= [ 0.09971959] b= [ 0.30059043] loss= 0.000899891\n",
      "w= [ 0.09971959] b= [ 0.30059043] loss= 0.000899891\n",
      "w= [ 0.09971959] b= [ 0.30059043] loss= 0.000899891\n",
      "w= [ 0.09971959] b= [ 0.30059043] loss= 0.000899891\n",
      "w= [ 0.09971959] b= [ 0.30059043] loss= 0.000899891\n",
      "w= [ 0.09971959] b= [ 0.30059043] loss= 0.000899891\n",
      "w= [ 0.09971959] b= [ 0.30059043] loss= 0.000899891\n",
      "w= [ 0.09971959] b= [ 0.30059043] loss= 0.000899891\n",
      "w= [ 0.09971959] b= [ 0.30059043] loss= 0.000899891\n",
      "w= [ 0.09971959] b= [ 0.30059043] loss= 0.000899891\n",
      "w= [ 0.09971959] b= [ 0.30059043] loss= 0.000899891\n",
      "w= [ 0.09971959] b= [ 0.30059043] loss= 0.000899891\n",
      "w= [ 0.09971959] b= [ 0.30059043] loss= 0.000899891\n",
      "w= [ 0.09971959] b= [ 0.30059043] loss= 0.000899891\n",
      "w= [ 0.09971959] b= [ 0.30059043] loss= 0.000899891\n",
      "w= [ 0.09971959] b= [ 0.30059043] loss= 0.000899891\n",
      "w= [ 0.09971959] b= [ 0.30059043] loss= 0.000899891\n",
      "w= [ 0.09971959] b= [ 0.30059043] loss= 0.000899891\n",
      "w= [ 0.09971959] b= [ 0.30059043] loss= 0.000899891\n",
      "w= [ 0.09971959] b= [ 0.30059043] loss= 0.000899891\n",
      "w= [ 0.09971959] b= [ 0.30059043] loss= 0.000899891\n",
      "w= [ 0.09971959] b= [ 0.30059043] loss= 0.000899891\n",
      "w= [ 0.09971959] b= [ 0.30059043] loss= 0.000899891\n",
      "w= [ 0.09971959] b= [ 0.30059043] loss= 0.000899891\n",
      "w= [ 0.09971959] b= [ 0.30059043] loss= 0.000899891\n",
      "w= [ 0.09971959] b= [ 0.30059043] loss= 0.000899891\n",
      "w= [ 0.09971959] b= [ 0.30059043] loss= 0.000899891\n",
      "w= [ 0.09971959] b= [ 0.30059043] loss= 0.000899891\n",
      "w= [ 0.09971959] b= [ 0.30059043] loss= 0.000899891\n",
      "w= [ 0.09971959] b= [ 0.30059043] loss= 0.000899891\n",
      "w= [ 0.09971959] b= [ 0.30059043] loss= 0.000899891\n",
      "w= [ 0.09971959] b= [ 0.30059043] loss= 0.000899891\n",
      "w= [ 0.09971959] b= [ 0.30059043] loss= 0.000899891\n",
      "w= [ 0.09971959] b= [ 0.30059043] loss= 0.000899891\n",
      "w= [ 0.09971959] b= [ 0.30059043] loss= 0.000899891\n",
      "w= [ 0.09971959] b= [ 0.30059043] loss= 0.000899891\n",
      "w= [ 0.09971959] b= [ 0.30059043] loss= 0.000899891\n",
      "w= [ 0.09971959] b= [ 0.30059043] loss= 0.000899891\n",
      "w= [ 0.09971959] b= [ 0.30059043] loss= 0.000899891\n",
      "w= [ 0.09971959] b= [ 0.30059043] loss= 0.000899891\n",
      "w= [ 0.09971959] b= [ 0.30059043] loss= 0.000899891\n",
      "w= [ 0.09971959] b= [ 0.30059043] loss= 0.000899891\n",
      "w= [ 0.09971959] b= [ 0.30059043] loss= 0.000899891\n",
      "w= [ 0.09971959] b= [ 0.30059043] loss= 0.000899891\n",
      "w= [ 0.09971959] b= [ 0.30059043] loss= 0.000899891\n",
      "w= [ 0.09971959] b= [ 0.30059043] loss= 0.000899891\n",
      "w= [ 0.09971959] b= [ 0.30059043] loss= 0.000899891\n",
      "w= [ 0.09971959] b= [ 0.30059043] loss= 0.000899891\n",
      "w= [ 0.09971959] b= [ 0.30059043] loss= 0.000899891\n",
      "w= [ 0.09971959] b= [ 0.30059043] loss= 0.000899891\n",
      "w= [ 0.09971959] b= [ 0.30059043] loss= 0.000899891\n",
      "w= [ 0.09971959] b= [ 0.30059043] loss= 0.000899891\n",
      "w= [ 0.09971959] b= [ 0.30059043] loss= 0.000899891\n",
      "w= [ 0.09971959] b= [ 0.30059043] loss= 0.000899891\n",
      "w= [ 0.09971959] b= [ 0.30059043] loss= 0.000899891\n",
      "w= [ 0.09971959] b= [ 0.30059043] loss= 0.000899891\n",
      "w= [ 0.09971959] b= [ 0.30059043] loss= 0.000899891\n",
      "w= [ 0.09971959] b= [ 0.30059043] loss= 0.000899891\n",
      "w= [ 0.09971959] b= [ 0.30059043] loss= 0.000899891\n",
      "w= [ 0.09971959] b= [ 0.30059043] loss= 0.000899891\n"
     ]
    }
   ],
   "source": [
    "# 通过\n",
    "# 生成1维的w矩阵，取值是 [-1,1]之间的随机数\n",
    "w=tf.Variable(tf.random_uniform([1],-1.0,1.0),name='W')\n",
    "# 生成1维的b矩阵，初始值是0\n",
    "b=tf.Variable(tf.zeros([1],name='b'))\n",
    "# 经过计算得出预估值 y\n",
    "y=w*x_data+b\n",
    "# 以估计值 y和实际值 y_data之间的均方差作为损失\n",
    "loss =tf.reduce_mean(tf.square(y-y_data),name='loss')\n",
    "# 采用梯度下降法来优化参数\n",
    "optimizer=tf.train.GradientDescentOptimizer(0.5)\n",
    "# 训练的过程就是最小化这个误差值\n",
    "train=optimizer.minimize(loss,name='train')\n",
    "\n",
    "sess=tf.Session()\n",
    "init=tf.global_variables_initializer()\n",
    "sess.run(init)\n",
    "print('w=',sess.run(w),'b=',sess.run(b),'loss=',sess.run(loss))\n",
    "# 执行20次训练\n",
    "for step in range(200):\n",
    "    sess.run(train)\n",
    "    # 输出训练好的 w和b\n",
    "    print('w=',sess.run(w),'b=',sess.run(b),'loss=',sess.run(loss))\n",
    "writer=tf.train.SummarySaverHook(sess.graph,scaffold=tf.train.Scaffold(summary_op=tf.summary.merge_all()))\n"
   ]
  },
  {
   "cell_type": "code",
   "execution_count": null,
   "metadata": {
    "collapsed": true
   },
   "outputs": [],
   "source": []
  }
 ],
 "metadata": {
  "kernelspec": {
   "display_name": "Python 3",
   "language": "python",
   "name": "python3"
  },
  "language_info": {
   "codemirror_mode": {
    "name": "ipython",
    "version": 3
   },
   "file_extension": ".py",
   "mimetype": "text/x-python",
   "name": "python",
   "nbconvert_exporter": "python",
   "pygments_lexer": "ipython3",
   "version": "3.5.4"
  }
 },
 "nbformat": 4,
 "nbformat_minor": 2
}
