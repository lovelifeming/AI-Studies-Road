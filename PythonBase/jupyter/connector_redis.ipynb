{
 "cells": [
  {
   "cell_type": "code",
   "execution_count": 1,
   "metadata": {},
   "outputs": [],
   "source": [
    "import redis\n",
    "import time\n",
    "import datetime"
   ]
  },
  {
   "cell_type": "code",
   "execution_count": 2,
   "metadata": {},
   "outputs": [],
   "source": [
    "# 连接池\n",
    "pool = redis.ConnectionPool(host=\"192.1.1.100\", port=6379, password=\"\", max_connections=20)\n",
    "connp = redis.Redis(connection_pool=pool)\n",
    "# 单连接 \n",
    "# conn = redis.Redis(host=\"192.1.1.100\", port=6379,password=\"\")"
   ]
  },
  {
   "cell_type": "code",
   "execution_count": 3,
   "metadata": {},
   "outputs": [
    {
     "data": {
      "text/plain": [
       "0"
      ]
     },
     "execution_count": 3,
     "metadata": {},
     "output_type": "execute_result"
    }
   ],
   "source": [
    "# connp.hset('E_Horizontal_Motor1_SM',\"value\",123)   # ex=5代表seconds，px=1000 代表ms\n",
    "# connp.hset('E_Horizontal_Motor1_SM',\"timeStamp\",datetime.datetime.now().timestamp()*1000)\n",
    "connp.hset('P_Horizontal_Roller2_SM',\"value\",81)   # ex=5代表seconds，px=1000 代表ms\n",
    "connp.hset('P_Horizontal_Roller2_SM',\"timeStamp\",datetime.datetime.now().timestamp()*1000)"
   ]
  },
  {
   "cell_type": "code",
   "execution_count": 5,
   "metadata": {},
   "outputs": [
    {
     "name": "stdout",
     "output_type": "stream",
     "text": [
      "b'180'\n",
      "b'1577438625651'\n",
      "b'0'\n",
      "b'10'\n",
      "b'1577438625871'\n",
      "None\n"
     ]
    }
   ],
   "source": [
    "# connp.hset('Evt_Stop_Rail_QAH_5','value','true')\n",
    "# connp.hset('Evt_Stop_Rail_QAH_5','timeStamp',int(time.time()*1000))\n",
    "# print(connp.hget('Evt_Stop_Rail_QAH_5','value'))\n",
    "# print(connp.hget('Evt_Stop_Rail_QAH_5','timeStamp'))\n",
    "# print(connp.hget('Evt_Stop_Rail_QAH_5','alarm_flag'))\n",
    "\n",
    "connp.hset('E_Vertical_Motor1_SM','value',180)\n",
    "connp.hset('E_Vertical_Motor1_SM','timeStamp',int(time.time()*1000))\n",
    "print(connp.hget('E_Vertical_Motor1_SM','value'))\n",
    "print(connp.hget('E_Vertical_Motor1_SM','timeStamp'))\n",
    "print(connp.hget('E_Vertical_Motor1_SM','alarm_flag'))\n",
    "\n",
    "connp.hset('P_Vertical_Roller2_SM','value',10)\n",
    "connp.hset('P_Vertical_Roller2_SM','timeStamp',int(time.time()*1000))\n",
    "print(connp.hget('P_Vertical_Roller2_SM','value'))\n",
    "print(connp.hget('P_Vertical_Roller2_SM','timeStamp'))\n",
    "print(connp.hget('P_Vertical_Roller2_SM','alarm_flag'))\n",
    "\n",
    "# connp.hset('T_iAH2_AH15_AH2_Top_Contact_C','value',450)\n",
    "# connp.hset('T_iAH2_AH15_AH2_Top_Contact_C','timeStamp',int(time.time()*1000))\n",
    "# print(connp.hget('T_iAH2_AH15_AH2_Top_Contact_C','value'))\n",
    "# print(connp.hget('T_iAH2_AH15_AH2_Top_Contact_C','timeStamp'))\n",
    "# print(connp.hget('T_iAH2_AH15_AH2_Top_Contact_C','alarm_flag'))\n",
    "\n",
    "# connp.hset('T_Bottom_E_2_Heating_Section_HF1','value',140)\n",
    "# connp.hset('T_Bottom_E_2_Heating_Section_HF1','timeStamp',int(time.time()*1000))\n",
    "# print(connp.hget('T_Bottom_E_2_Heating_Section_HF1','value'))\n",
    "# print(connp.hget('T_Bottom_E_2_Heating_Section_HF1','timeStamp'))\n",
    "# print(connp.hget('T_Bottom_E_2_Heating_Section_HF1','alarm_flag'))\n"
   ]
  },
  {
   "cell_type": "code",
   "execution_count": 11,
   "metadata": {},
   "outputs": [
    {
     "name": "stdout",
     "output_type": "stream",
     "text": [
      "1574734879.727\n",
      "2019-11-26 10:21:19\n"
     ]
    }
   ],
   "source": [
    "va=connp.hget(\"P_Dephosphorization_U1\",'timeStamp')\n",
    "st=float(va)/1000\n",
    "print(st)\n",
    "timeArray = time.localtime(st)\n",
    "otherStyleTime = time.strftime(\"%Y-%m-%d %H:%M:%S\", timeArray)\n",
    "print(otherStyleTime)"
   ]
  },
  {
   "cell_type": "code",
   "execution_count": 10,
   "metadata": {},
   "outputs": [],
   "source": [
    "# connp.set(\"test\",\"hello\",ex=5) # ex代表seconds，px代表ms\n",
    "# print(connp.get(\"test\"))"
   ]
  },
  {
   "cell_type": "code",
   "execution_count": null,
   "metadata": {},
   "outputs": [],
   "source": []
  }
 ],
 "metadata": {
  "kernelspec": {
   "display_name": "Python 3",
   "language": "python",
   "name": "python3"
  },
  "language_info": {
   "codemirror_mode": {
    "name": "ipython",
    "version": 3
   },
   "file_extension": ".py",
   "mimetype": "text/x-python",
   "name": "python",
   "nbconvert_exporter": "python",
   "pygments_lexer": "ipython3",
   "version": "3.7.3"
  }
 },
 "nbformat": 4,
 "nbformat_minor": 4
}
